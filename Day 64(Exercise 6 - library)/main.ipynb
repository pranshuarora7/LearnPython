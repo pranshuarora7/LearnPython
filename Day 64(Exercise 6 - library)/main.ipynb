{
 "cells": [
  {
   "cell_type": "code",
   "execution_count": 3,
   "metadata": {},
   "outputs": [],
   "source": [
    "class Library:\n",
    "    def __init__(self):\n",
    "        self.noBooks = 0\n",
    "        self.books = []\n",
    "\n",
    "    def addBook(self, book):\n",
    "        self.books.append(book)\n",
    "        self.noBooks = len(self.books)\n",
    "\n",
    "    def showInfo(self):\n",
    "        print(f\"The library has {self.noBooks} books. The books are\")\n",
    "        for book in self.books:\n",
    "            print(book)"
   ]
  },
  {
   "cell_type": "code",
   "execution_count": 4,
   "metadata": {},
   "outputs": [
    {
     "name": "stdout",
     "output_type": "stream",
     "text": [
      "The library has 3 books. The books are\n",
      "Harry Potter1\n",
      "Harry Potter2\n",
      "Harry Potter3\n"
     ]
    }
   ],
   "source": [
    "l1 = Library()\n",
    "l1.addBook(\"Harry Potter1\")\n",
    "l1.addBook(\"Harry Potter2\")\n",
    "l1.addBook(\"Harry Potter3\")\n",
    "l1.showInfo()"
   ]
  },
  {
   "cell_type": "code",
   "execution_count": 5,
   "metadata": {},
   "outputs": [
    {
     "name": "stdout",
     "output_type": "stream",
     "text": [
      "The library has 1 books. The books are\n",
      "dsad\n"
     ]
    }
   ],
   "source": [
    "l2 = Library()\n",
    "l2.addBook(\"dsad\")\n",
    "l2.showInfo()"
   ]
  },
  {
   "cell_type": "code",
   "execution_count": null,
   "metadata": {},
   "outputs": [],
   "source": []
  }
 ],
 "metadata": {
  "kernelspec": {
   "display_name": "Python 3",
   "language": "python",
   "name": "python3"
  },
  "language_info": {
   "codemirror_mode": {
    "name": "ipython",
    "version": 3
   },
   "file_extension": ".py",
   "mimetype": "text/x-python",
   "name": "python",
   "nbconvert_exporter": "python",
   "pygments_lexer": "ipython3",
   "version": "3.12.0"
  }
 },
 "nbformat": 4,
 "nbformat_minor": 2
}
